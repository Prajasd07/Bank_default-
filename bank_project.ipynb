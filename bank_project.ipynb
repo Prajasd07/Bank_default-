{
 "cells": [
  {
   "cell_type": "code",
   "execution_count": 2,
   "metadata": {},
   "outputs": [],
   "source": [
    "#load lib\n",
    "import os\n",
    "import pandas as pd\n",
    "import numpy as np\n",
    "import seaborn as sb\n",
    "import matplotlib.pyplot as plt\n",
    "from sklearn.metrics import roc_curve,auc\n",
    "from sklearn.metrics import roc_auc_score,precision_recall_curve\n",
    "from sklearn.linear_model import LogisticRegression\n",
    "from sklearn.tree import DecisionTreeClassifier\n",
    "from sklearn.model_selection import train_test_split \n",
    "from sklearn import metrics \n",
    "from xgboost import XGBClassifier\n",
    "from numpy import loadtxt\n",
    "from sklearn.model_selection import train_test_split\n",
    "from sklearn.metrics import accuracy_score"
   ]
  },
  {
   "cell_type": "code",
   "execution_count": 3,
   "metadata": {},
   "outputs": [],
   "source": [
    "#set working directory \n",
    "os.chdir(\"C:/Users/HP/Desktop/Bank Project\")"
   ]
  },
  {
   "cell_type": "code",
   "execution_count": 4,
   "metadata": {},
   "outputs": [],
   "source": [
    "#load data\n",
    "bankdata= pd.read_csv(\"bank-loan.csv\")"
   ]
  },
  {
   "cell_type": "code",
   "execution_count": 5,
   "metadata": {},
   "outputs": [
    {
     "data": {
      "text/plain": [
       "age           int64\n",
       "ed            int64\n",
       "employ        int64\n",
       "address       int64\n",
       "income        int64\n",
       "debtinc     float64\n",
       "creddebt    float64\n",
       "othdebt     float64\n",
       "default     float64\n",
       "dtype: object"
      ]
     },
     "execution_count": 5,
     "metadata": {},
     "output_type": "execute_result"
    }
   ],
   "source": [
    "# check data type\n",
    "bankdata.dtypes"
   ]
  },
  {
   "cell_type": "code",
   "execution_count": 6,
   "metadata": {},
   "outputs": [
    {
     "data": {
      "text/plain": [
       "age          37\n",
       "ed            5\n",
       "employ       33\n",
       "address      32\n",
       "income      129\n",
       "debtinc     245\n",
       "creddebt    842\n",
       "othdebt     848\n",
       "default       2\n",
       "dtype: int64"
      ]
     },
     "execution_count": 6,
     "metadata": {},
     "output_type": "execute_result"
    }
   ],
   "source": [
    "bankdata.nunique()"
   ]
  },
  {
   "cell_type": "markdown",
   "metadata": {},
   "source": [
    "     change datatype of some variables\n"
   ]
  },
  {
   "cell_type": "code",
   "execution_count": 7,
   "metadata": {},
   "outputs": [],
   "source": [
    "#change data type\n",
    "bankdata['ed'] = bankdata['ed'].astype('category')"
   ]
  },
  {
   "cell_type": "code",
   "execution_count": 8,
   "metadata": {},
   "outputs": [
    {
     "data": {
      "text/html": [
       "<div>\n",
       "<style scoped>\n",
       "    .dataframe tbody tr th:only-of-type {\n",
       "        vertical-align: middle;\n",
       "    }\n",
       "\n",
       "    .dataframe tbody tr th {\n",
       "        vertical-align: top;\n",
       "    }\n",
       "\n",
       "    .dataframe thead th {\n",
       "        text-align: right;\n",
       "    }\n",
       "</style>\n",
       "<table border=\"1\" class=\"dataframe\">\n",
       "  <thead>\n",
       "    <tr style=\"text-align: right;\">\n",
       "      <th></th>\n",
       "      <th>age</th>\n",
       "      <th>employ</th>\n",
       "      <th>address</th>\n",
       "      <th>income</th>\n",
       "      <th>debtinc</th>\n",
       "      <th>creddebt</th>\n",
       "      <th>othdebt</th>\n",
       "      <th>default</th>\n",
       "    </tr>\n",
       "  </thead>\n",
       "  <tbody>\n",
       "    <tr>\n",
       "      <th>count</th>\n",
       "      <td>850.000000</td>\n",
       "      <td>850.000000</td>\n",
       "      <td>850.000000</td>\n",
       "      <td>850.000000</td>\n",
       "      <td>850.000000</td>\n",
       "      <td>850.000000</td>\n",
       "      <td>850.000000</td>\n",
       "      <td>700.000000</td>\n",
       "    </tr>\n",
       "    <tr>\n",
       "      <th>mean</th>\n",
       "      <td>35.029412</td>\n",
       "      <td>8.565882</td>\n",
       "      <td>8.371765</td>\n",
       "      <td>46.675294</td>\n",
       "      <td>10.171647</td>\n",
       "      <td>1.576805</td>\n",
       "      <td>3.078789</td>\n",
       "      <td>0.261429</td>\n",
       "    </tr>\n",
       "    <tr>\n",
       "      <th>std</th>\n",
       "      <td>8.041432</td>\n",
       "      <td>6.777884</td>\n",
       "      <td>6.895016</td>\n",
       "      <td>38.543054</td>\n",
       "      <td>6.719441</td>\n",
       "      <td>2.125840</td>\n",
       "      <td>3.398803</td>\n",
       "      <td>0.439727</td>\n",
       "    </tr>\n",
       "    <tr>\n",
       "      <th>min</th>\n",
       "      <td>20.000000</td>\n",
       "      <td>0.000000</td>\n",
       "      <td>0.000000</td>\n",
       "      <td>13.000000</td>\n",
       "      <td>0.100000</td>\n",
       "      <td>0.011696</td>\n",
       "      <td>0.045584</td>\n",
       "      <td>0.000000</td>\n",
       "    </tr>\n",
       "    <tr>\n",
       "      <th>25%</th>\n",
       "      <td>29.000000</td>\n",
       "      <td>3.000000</td>\n",
       "      <td>3.000000</td>\n",
       "      <td>24.000000</td>\n",
       "      <td>5.100000</td>\n",
       "      <td>0.382176</td>\n",
       "      <td>1.045942</td>\n",
       "      <td>0.000000</td>\n",
       "    </tr>\n",
       "    <tr>\n",
       "      <th>50%</th>\n",
       "      <td>34.000000</td>\n",
       "      <td>7.000000</td>\n",
       "      <td>7.000000</td>\n",
       "      <td>35.000000</td>\n",
       "      <td>8.700000</td>\n",
       "      <td>0.885091</td>\n",
       "      <td>2.003243</td>\n",
       "      <td>0.000000</td>\n",
       "    </tr>\n",
       "    <tr>\n",
       "      <th>75%</th>\n",
       "      <td>41.000000</td>\n",
       "      <td>13.000000</td>\n",
       "      <td>12.000000</td>\n",
       "      <td>55.750000</td>\n",
       "      <td>13.800000</td>\n",
       "      <td>1.898440</td>\n",
       "      <td>3.903001</td>\n",
       "      <td>1.000000</td>\n",
       "    </tr>\n",
       "    <tr>\n",
       "      <th>max</th>\n",
       "      <td>56.000000</td>\n",
       "      <td>33.000000</td>\n",
       "      <td>34.000000</td>\n",
       "      <td>446.000000</td>\n",
       "      <td>41.300000</td>\n",
       "      <td>20.561310</td>\n",
       "      <td>35.197500</td>\n",
       "      <td>1.000000</td>\n",
       "    </tr>\n",
       "  </tbody>\n",
       "</table>\n",
       "</div>"
      ],
      "text/plain": [
       "              age      employ     address      income     debtinc    creddebt  \\\n",
       "count  850.000000  850.000000  850.000000  850.000000  850.000000  850.000000   \n",
       "mean    35.029412    8.565882    8.371765   46.675294   10.171647    1.576805   \n",
       "std      8.041432    6.777884    6.895016   38.543054    6.719441    2.125840   \n",
       "min     20.000000    0.000000    0.000000   13.000000    0.100000    0.011696   \n",
       "25%     29.000000    3.000000    3.000000   24.000000    5.100000    0.382176   \n",
       "50%     34.000000    7.000000    7.000000   35.000000    8.700000    0.885091   \n",
       "75%     41.000000   13.000000   12.000000   55.750000   13.800000    1.898440   \n",
       "max     56.000000   33.000000   34.000000  446.000000   41.300000   20.561310   \n",
       "\n",
       "          othdebt     default  \n",
       "count  850.000000  700.000000  \n",
       "mean     3.078789    0.261429  \n",
       "std      3.398803    0.439727  \n",
       "min      0.045584    0.000000  \n",
       "25%      1.045942    0.000000  \n",
       "50%      2.003243    0.000000  \n",
       "75%      3.903001    1.000000  \n",
       "max     35.197500    1.000000  "
      ]
     },
     "execution_count": 8,
     "metadata": {},
     "output_type": "execute_result"
    }
   ],
   "source": [
    "bankdata.describe()"
   ]
  },
  {
   "cell_type": "markdown",
   "metadata": {},
   "source": [
    "### Missing value analysis ###"
   ]
  },
  {
   "cell_type": "code",
   "execution_count": 7,
   "metadata": {},
   "outputs": [
    {
     "name": "stdout",
     "output_type": "stream",
     "text": [
      "age           0\n",
      "ed            0\n",
      "employ        0\n",
      "address       0\n",
      "income        0\n",
      "debtinc       0\n",
      "creddebt      0\n",
      "othdebt       0\n",
      "default     150\n",
      "dtype: int64\n"
     ]
    }
   ],
   "source": [
    "#missing value\n",
    "print(bankdata.isnull().sum())"
   ]
  },
  {
   "cell_type": "code",
   "execution_count": 8,
   "metadata": {},
   "outputs": [],
   "source": [
    "#Create dataframe with missing percentage\n",
    "missing_val = pd.DataFrame(bankdata.isnull().sum())\n",
    "\n",
    "#Reset index\n",
    "missing_val = missing_val.reset_index()\n",
    "\n",
    "#Rename variable\n",
    "missing_val = missing_val.rename(columns = {'index': 'Variables', 0: 'Missing_Percentage'})\n",
    "\n",
    "#Calculate percentage\n",
    "missing_val['Missing_Percentage'] = (missing_val['Missing_Percentage']/len(bankdata))*100\n",
    "\n",
    "#descending order\n",
    "missing_val = missing_val.sort_values('Missing_Percentage', ascending = False).reset_index(drop = True)\n",
    "\n",
    "#save output results \n",
    "missing_val.to_csv(\"Perc_of_MV.csv\", index = False)"
   ]
  },
  {
   "cell_type": "code",
   "execution_count": 9,
   "metadata": {},
   "outputs": [
    {
     "data": {
      "text/html": [
       "<div>\n",
       "<style scoped>\n",
       "    .dataframe tbody tr th:only-of-type {\n",
       "        vertical-align: middle;\n",
       "    }\n",
       "\n",
       "    .dataframe tbody tr th {\n",
       "        vertical-align: top;\n",
       "    }\n",
       "\n",
       "    .dataframe thead th {\n",
       "        text-align: right;\n",
       "    }\n",
       "</style>\n",
       "<table border=\"1\" class=\"dataframe\">\n",
       "  <thead>\n",
       "    <tr style=\"text-align: right;\">\n",
       "      <th></th>\n",
       "      <th>Variables</th>\n",
       "      <th>Missing_Percentage</th>\n",
       "    </tr>\n",
       "  </thead>\n",
       "  <tbody>\n",
       "    <tr>\n",
       "      <th>0</th>\n",
       "      <td>default</td>\n",
       "      <td>17.647059</td>\n",
       "    </tr>\n",
       "    <tr>\n",
       "      <th>1</th>\n",
       "      <td>age</td>\n",
       "      <td>0.000000</td>\n",
       "    </tr>\n",
       "    <tr>\n",
       "      <th>2</th>\n",
       "      <td>ed</td>\n",
       "      <td>0.000000</td>\n",
       "    </tr>\n",
       "    <tr>\n",
       "      <th>3</th>\n",
       "      <td>employ</td>\n",
       "      <td>0.000000</td>\n",
       "    </tr>\n",
       "    <tr>\n",
       "      <th>4</th>\n",
       "      <td>address</td>\n",
       "      <td>0.000000</td>\n",
       "    </tr>\n",
       "    <tr>\n",
       "      <th>5</th>\n",
       "      <td>income</td>\n",
       "      <td>0.000000</td>\n",
       "    </tr>\n",
       "    <tr>\n",
       "      <th>6</th>\n",
       "      <td>debtinc</td>\n",
       "      <td>0.000000</td>\n",
       "    </tr>\n",
       "    <tr>\n",
       "      <th>7</th>\n",
       "      <td>creddebt</td>\n",
       "      <td>0.000000</td>\n",
       "    </tr>\n",
       "    <tr>\n",
       "      <th>8</th>\n",
       "      <td>othdebt</td>\n",
       "      <td>0.000000</td>\n",
       "    </tr>\n",
       "  </tbody>\n",
       "</table>\n",
       "</div>"
      ],
      "text/plain": [
       "  Variables  Missing_Percentage\n",
       "0   default           17.647059\n",
       "1       age            0.000000\n",
       "2        ed            0.000000\n",
       "3    employ            0.000000\n",
       "4   address            0.000000\n",
       "5    income            0.000000\n",
       "6   debtinc            0.000000\n",
       "7  creddebt            0.000000\n",
       "8   othdebt            0.000000"
      ]
     },
     "execution_count": 9,
     "metadata": {},
     "output_type": "execute_result"
    }
   ],
   "source": [
    "missing_val\n"
   ]
  },
  {
   "cell_type": "markdown",
   "metadata": {},
   "source": [
    "### Now impute missing value by taking mode of column 'default'"
   ]
  },
  {
   "cell_type": "code",
   "execution_count": 10,
   "metadata": {},
   "outputs": [],
   "source": [
    "impute_val =bankdata['default'].mode()"
   ]
  },
  {
   "cell_type": "code",
   "execution_count": 11,
   "metadata": {},
   "outputs": [
    {
     "data": {
      "text/plain": [
       "0    0.0\n",
       "dtype: float64"
      ]
     },
     "execution_count": 11,
     "metadata": {},
     "output_type": "execute_result"
    }
   ],
   "source": [
    "impute_val"
   ]
  },
  {
   "cell_type": "code",
   "execution_count": 12,
   "metadata": {},
   "outputs": [],
   "source": [
    "bankdata['default']=bankdata['default'].fillna(0)"
   ]
  },
  {
   "cell_type": "code",
   "execution_count": 13,
   "metadata": {},
   "outputs": [
    {
     "data": {
      "text/html": [
       "<div>\n",
       "<style scoped>\n",
       "    .dataframe tbody tr th:only-of-type {\n",
       "        vertical-align: middle;\n",
       "    }\n",
       "\n",
       "    .dataframe tbody tr th {\n",
       "        vertical-align: top;\n",
       "    }\n",
       "\n",
       "    .dataframe thead th {\n",
       "        text-align: right;\n",
       "    }\n",
       "</style>\n",
       "<table border=\"1\" class=\"dataframe\">\n",
       "  <thead>\n",
       "    <tr style=\"text-align: right;\">\n",
       "      <th></th>\n",
       "      <th>age</th>\n",
       "      <th>ed</th>\n",
       "      <th>employ</th>\n",
       "      <th>address</th>\n",
       "      <th>income</th>\n",
       "      <th>debtinc</th>\n",
       "      <th>creddebt</th>\n",
       "      <th>othdebt</th>\n",
       "      <th>default</th>\n",
       "    </tr>\n",
       "  </thead>\n",
       "  <tbody>\n",
       "    <tr>\n",
       "      <th>0</th>\n",
       "      <td>41</td>\n",
       "      <td>3</td>\n",
       "      <td>17</td>\n",
       "      <td>12</td>\n",
       "      <td>176</td>\n",
       "      <td>9.3</td>\n",
       "      <td>11.359392</td>\n",
       "      <td>5.008608</td>\n",
       "      <td>1.0</td>\n",
       "    </tr>\n",
       "    <tr>\n",
       "      <th>1</th>\n",
       "      <td>27</td>\n",
       "      <td>1</td>\n",
       "      <td>10</td>\n",
       "      <td>6</td>\n",
       "      <td>31</td>\n",
       "      <td>17.3</td>\n",
       "      <td>1.362202</td>\n",
       "      <td>4.000798</td>\n",
       "      <td>0.0</td>\n",
       "    </tr>\n",
       "    <tr>\n",
       "      <th>2</th>\n",
       "      <td>40</td>\n",
       "      <td>1</td>\n",
       "      <td>15</td>\n",
       "      <td>14</td>\n",
       "      <td>55</td>\n",
       "      <td>5.5</td>\n",
       "      <td>0.856075</td>\n",
       "      <td>2.168925</td>\n",
       "      <td>0.0</td>\n",
       "    </tr>\n",
       "    <tr>\n",
       "      <th>3</th>\n",
       "      <td>41</td>\n",
       "      <td>1</td>\n",
       "      <td>15</td>\n",
       "      <td>14</td>\n",
       "      <td>120</td>\n",
       "      <td>2.9</td>\n",
       "      <td>2.658720</td>\n",
       "      <td>0.821280</td>\n",
       "      <td>0.0</td>\n",
       "    </tr>\n",
       "    <tr>\n",
       "      <th>4</th>\n",
       "      <td>24</td>\n",
       "      <td>2</td>\n",
       "      <td>2</td>\n",
       "      <td>0</td>\n",
       "      <td>28</td>\n",
       "      <td>17.3</td>\n",
       "      <td>1.787436</td>\n",
       "      <td>3.056564</td>\n",
       "      <td>1.0</td>\n",
       "    </tr>\n",
       "    <tr>\n",
       "      <th>...</th>\n",
       "      <td>...</td>\n",
       "      <td>...</td>\n",
       "      <td>...</td>\n",
       "      <td>...</td>\n",
       "      <td>...</td>\n",
       "      <td>...</td>\n",
       "      <td>...</td>\n",
       "      <td>...</td>\n",
       "      <td>...</td>\n",
       "    </tr>\n",
       "    <tr>\n",
       "      <th>845</th>\n",
       "      <td>34</td>\n",
       "      <td>1</td>\n",
       "      <td>12</td>\n",
       "      <td>15</td>\n",
       "      <td>32</td>\n",
       "      <td>2.7</td>\n",
       "      <td>0.239328</td>\n",
       "      <td>0.624672</td>\n",
       "      <td>0.0</td>\n",
       "    </tr>\n",
       "    <tr>\n",
       "      <th>846</th>\n",
       "      <td>32</td>\n",
       "      <td>2</td>\n",
       "      <td>12</td>\n",
       "      <td>11</td>\n",
       "      <td>116</td>\n",
       "      <td>5.7</td>\n",
       "      <td>4.026708</td>\n",
       "      <td>2.585292</td>\n",
       "      <td>0.0</td>\n",
       "    </tr>\n",
       "    <tr>\n",
       "      <th>847</th>\n",
       "      <td>48</td>\n",
       "      <td>1</td>\n",
       "      <td>13</td>\n",
       "      <td>11</td>\n",
       "      <td>38</td>\n",
       "      <td>10.8</td>\n",
       "      <td>0.722304</td>\n",
       "      <td>3.381696</td>\n",
       "      <td>0.0</td>\n",
       "    </tr>\n",
       "    <tr>\n",
       "      <th>848</th>\n",
       "      <td>35</td>\n",
       "      <td>2</td>\n",
       "      <td>1</td>\n",
       "      <td>11</td>\n",
       "      <td>24</td>\n",
       "      <td>7.8</td>\n",
       "      <td>0.417456</td>\n",
       "      <td>1.454544</td>\n",
       "      <td>0.0</td>\n",
       "    </tr>\n",
       "    <tr>\n",
       "      <th>849</th>\n",
       "      <td>37</td>\n",
       "      <td>1</td>\n",
       "      <td>20</td>\n",
       "      <td>13</td>\n",
       "      <td>41</td>\n",
       "      <td>12.9</td>\n",
       "      <td>0.899130</td>\n",
       "      <td>4.389870</td>\n",
       "      <td>0.0</td>\n",
       "    </tr>\n",
       "  </tbody>\n",
       "</table>\n",
       "<p>850 rows × 9 columns</p>\n",
       "</div>"
      ],
      "text/plain": [
       "     age ed  employ  address  income  debtinc   creddebt   othdebt  default\n",
       "0     41  3      17       12     176      9.3  11.359392  5.008608      1.0\n",
       "1     27  1      10        6      31     17.3   1.362202  4.000798      0.0\n",
       "2     40  1      15       14      55      5.5   0.856075  2.168925      0.0\n",
       "3     41  1      15       14     120      2.9   2.658720  0.821280      0.0\n",
       "4     24  2       2        0      28     17.3   1.787436  3.056564      1.0\n",
       "..   ... ..     ...      ...     ...      ...        ...       ...      ...\n",
       "845   34  1      12       15      32      2.7   0.239328  0.624672      0.0\n",
       "846   32  2      12       11     116      5.7   4.026708  2.585292      0.0\n",
       "847   48  1      13       11      38     10.8   0.722304  3.381696      0.0\n",
       "848   35  2       1       11      24      7.8   0.417456  1.454544      0.0\n",
       "849   37  1      20       13      41     12.9   0.899130  4.389870      0.0\n",
       "\n",
       "[850 rows x 9 columns]"
      ]
     },
     "execution_count": 13,
     "metadata": {},
     "output_type": "execute_result"
    }
   ],
   "source": [
    "bankdata"
   ]
  },
  {
   "cell_type": "code",
   "execution_count": 14,
   "metadata": {},
   "outputs": [
    {
     "data": {
      "text/plain": [
       "age         0\n",
       "ed          0\n",
       "employ      0\n",
       "address     0\n",
       "income      0\n",
       "debtinc     0\n",
       "creddebt    0\n",
       "othdebt     0\n",
       "default     0\n",
       "dtype: int64"
      ]
     },
     "execution_count": 14,
     "metadata": {},
     "output_type": "execute_result"
    }
   ],
   "source": [
    "bankdata.isnull().sum()"
   ]
  },
  {
   "cell_type": "markdown",
   "metadata": {},
   "source": [
    "### Outlier analysis ###"
   ]
  },
  {
   "cell_type": "code",
   "execution_count": 15,
   "metadata": {},
   "outputs": [],
   "source": [
    "num_cname=['age','employ','address','income','debtinc','creddebt','othdebt']"
   ]
  },
  {
   "cell_type": "code",
   "execution_count": 16,
   "metadata": {},
   "outputs": [
    {
     "data": {
      "image/png": "[encoded data removed]",
      "text/plain": [
       "<Figure size 504x2468.57 with 7 Axes>"
      ]
     },
     "metadata": {
      "needs_background": "light"
     },
     "output_type": "display_data"
    }
   ],
   "source": [
    "l= num_cname\n",
    "number_of_columns = 7\n",
    "number_of_rows = len(l)-1/number_of_columns\n",
    "plt.figure(figsize = (number_of_columns, 5*number_of_rows))\n",
    "for i in range(0, len(l)):\n",
    "    plt.subplot(number_of_rows + 1, number_of_columns, i+1)\n",
    "    sb.boxplot(bankdata[l[i]], color = 'yellow', orient = 'v')\n",
    "    plt.tight_layout()"
   ]
  },
  {
   "cell_type": "code",
   "execution_count": 17,
   "metadata": {},
   "outputs": [],
   "source": [
    "for i in num_cname:\n",
    "    #print(i)\n",
    "    q75, q25 = np.percentile(bankdata.loc[:,i], [75 ,25])\n",
    "    iqr = q75 - q25\n",
    "\n",
    "    min = q25 - (iqr*1.5)\n",
    "    max = q75 + (iqr*1.5)\n",
    "    #print(min)\n",
    "    #print(max)\n",
    "  \n",
    "    bankdata = bankdata.drop(bankdata[bankdata.loc[:,i] < min].index)\n",
    "    bankdata = bankdata.drop(bankdata[bankdata.loc[:,i] > max].index)"
   ]
  },
  {
   "cell_type": "code",
   "execution_count": 18,
   "metadata": {},
   "outputs": [
    {
     "data": {
      "text/html": [
       "<div>\n",
       "<style scoped>\n",
       "    .dataframe tbody tr th:only-of-type {\n",
       "        vertical-align: middle;\n",
       "    }\n",
       "\n",
       "    .dataframe tbody tr th {\n",
       "        vertical-align: top;\n",
       "    }\n",
       "\n",
       "    .dataframe thead th {\n",
       "        text-align: right;\n",
       "    }\n",
       "</style>\n",
       "<table border=\"1\" class=\"dataframe\">\n",
       "  <thead>\n",
       "    <tr style=\"text-align: right;\">\n",
       "      <th></th>\n",
       "      <th>age</th>\n",
       "      <th>ed</th>\n",
       "      <th>employ</th>\n",
       "      <th>address</th>\n",
       "      <th>income</th>\n",
       "      <th>debtinc</th>\n",
       "      <th>creddebt</th>\n",
       "      <th>othdebt</th>\n",
       "      <th>default</th>\n",
       "    </tr>\n",
       "  </thead>\n",
       "  <tbody>\n",
       "    <tr>\n",
       "      <th>1</th>\n",
       "      <td>27</td>\n",
       "      <td>1</td>\n",
       "      <td>10</td>\n",
       "      <td>6</td>\n",
       "      <td>31</td>\n",
       "      <td>17.3</td>\n",
       "      <td>1.362202</td>\n",
       "      <td>4.000798</td>\n",
       "      <td>0.0</td>\n",
       "    </tr>\n",
       "    <tr>\n",
       "      <th>2</th>\n",
       "      <td>40</td>\n",
       "      <td>1</td>\n",
       "      <td>15</td>\n",
       "      <td>14</td>\n",
       "      <td>55</td>\n",
       "      <td>5.5</td>\n",
       "      <td>0.856075</td>\n",
       "      <td>2.168925</td>\n",
       "      <td>0.0</td>\n",
       "    </tr>\n",
       "    <tr>\n",
       "      <th>4</th>\n",
       "      <td>24</td>\n",
       "      <td>2</td>\n",
       "      <td>2</td>\n",
       "      <td>0</td>\n",
       "      <td>28</td>\n",
       "      <td>17.3</td>\n",
       "      <td>1.787436</td>\n",
       "      <td>3.056564</td>\n",
       "      <td>1.0</td>\n",
       "    </tr>\n",
       "    <tr>\n",
       "      <th>5</th>\n",
       "      <td>41</td>\n",
       "      <td>2</td>\n",
       "      <td>5</td>\n",
       "      <td>5</td>\n",
       "      <td>25</td>\n",
       "      <td>10.2</td>\n",
       "      <td>0.392700</td>\n",
       "      <td>2.157300</td>\n",
       "      <td>0.0</td>\n",
       "    </tr>\n",
       "    <tr>\n",
       "      <th>7</th>\n",
       "      <td>43</td>\n",
       "      <td>1</td>\n",
       "      <td>12</td>\n",
       "      <td>11</td>\n",
       "      <td>38</td>\n",
       "      <td>3.6</td>\n",
       "      <td>0.128592</td>\n",
       "      <td>1.239408</td>\n",
       "      <td>0.0</td>\n",
       "    </tr>\n",
       "    <tr>\n",
       "      <th>...</th>\n",
       "      <td>...</td>\n",
       "      <td>...</td>\n",
       "      <td>...</td>\n",
       "      <td>...</td>\n",
       "      <td>...</td>\n",
       "      <td>...</td>\n",
       "      <td>...</td>\n",
       "      <td>...</td>\n",
       "      <td>...</td>\n",
       "    </tr>\n",
       "    <tr>\n",
       "      <th>844</th>\n",
       "      <td>23</td>\n",
       "      <td>1</td>\n",
       "      <td>3</td>\n",
       "      <td>4</td>\n",
       "      <td>13</td>\n",
       "      <td>3.1</td>\n",
       "      <td>0.045539</td>\n",
       "      <td>0.357461</td>\n",
       "      <td>0.0</td>\n",
       "    </tr>\n",
       "    <tr>\n",
       "      <th>845</th>\n",
       "      <td>34</td>\n",
       "      <td>1</td>\n",
       "      <td>12</td>\n",
       "      <td>15</td>\n",
       "      <td>32</td>\n",
       "      <td>2.7</td>\n",
       "      <td>0.239328</td>\n",
       "      <td>0.624672</td>\n",
       "      <td>0.0</td>\n",
       "    </tr>\n",
       "    <tr>\n",
       "      <th>847</th>\n",
       "      <td>48</td>\n",
       "      <td>1</td>\n",
       "      <td>13</td>\n",
       "      <td>11</td>\n",
       "      <td>38</td>\n",
       "      <td>10.8</td>\n",
       "      <td>0.722304</td>\n",
       "      <td>3.381696</td>\n",
       "      <td>0.0</td>\n",
       "    </tr>\n",
       "    <tr>\n",
       "      <th>848</th>\n",
       "      <td>35</td>\n",
       "      <td>2</td>\n",
       "      <td>1</td>\n",
       "      <td>11</td>\n",
       "      <td>24</td>\n",
       "      <td>7.8</td>\n",
       "      <td>0.417456</td>\n",
       "      <td>1.454544</td>\n",
       "      <td>0.0</td>\n",
       "    </tr>\n",
       "    <tr>\n",
       "      <th>849</th>\n",
       "      <td>37</td>\n",
       "      <td>1</td>\n",
       "      <td>20</td>\n",
       "      <td>13</td>\n",
       "      <td>41</td>\n",
       "      <td>12.9</td>\n",
       "      <td>0.899130</td>\n",
       "      <td>4.389870</td>\n",
       "      <td>0.0</td>\n",
       "    </tr>\n",
       "  </tbody>\n",
       "</table>\n",
       "<p>663 rows × 9 columns</p>\n",
       "</div>"
      ],
      "text/plain": [
       "     age ed  employ  address  income  debtinc  creddebt   othdebt  default\n",
       "1     27  1      10        6      31     17.3  1.362202  4.000798      0.0\n",
       "2     40  1      15       14      55      5.5  0.856075  2.168925      0.0\n",
       "4     24  2       2        0      28     17.3  1.787436  3.056564      1.0\n",
       "5     41  2       5        5      25     10.2  0.392700  2.157300      0.0\n",
       "7     43  1      12       11      38      3.6  0.128592  1.239408      0.0\n",
       "..   ... ..     ...      ...     ...      ...       ...       ...      ...\n",
       "844   23  1       3        4      13      3.1  0.045539  0.357461      0.0\n",
       "845   34  1      12       15      32      2.7  0.239328  0.624672      0.0\n",
       "847   48  1      13       11      38     10.8  0.722304  3.381696      0.0\n",
       "848   35  2       1       11      24      7.8  0.417456  1.454544      0.0\n",
       "849   37  1      20       13      41     12.9  0.899130  4.389870      0.0\n",
       "\n",
       "[663 rows x 9 columns]"
      ]
     },
     "execution_count": 18,
     "metadata": {},
     "output_type": "execute_result"
    }
   ],
   "source": [
    "bankdata"
   ]
  },
  {
   "cell_type": "markdown",
   "metadata": {},
   "source": [
    "### Feature selection ###"
   ]
  },
  {
   "cell_type": "code",
   "execution_count": 19,
   "metadata": {},
   "outputs": [
    {
     "name": "stdout",
     "output_type": "stream",
     "text": [
      "               age    employ   address    income   debtinc  creddebt   othdebt\n",
      "age       1.000000  0.459488  0.574834  0.483895 -0.074520  0.168996  0.226116\n",
      "employ    0.459488  1.000000  0.288116  0.624433 -0.213998  0.145147  0.205179\n",
      "address   0.574834  0.288116  1.000000  0.279700 -0.049478  0.140302  0.116272\n",
      "income    0.483895  0.624433  0.279700  1.000000 -0.246929  0.296365  0.366226\n",
      "debtinc  -0.074520 -0.213998 -0.049478 -0.246929  1.000000  0.543457  0.666845\n",
      "creddebt  0.168996  0.145147  0.140302  0.296365  0.543457  1.000000  0.468420\n",
      "othdebt   0.226116  0.205179  0.116272  0.366226  0.666845  0.468420  1.000000\n"
     ]
    }
   ],
   "source": [
    "corr_matrix = bankdata.loc[:,num_cname].corr()\n",
    "print(corr_matrix)"
   ]
  },
  {
   "cell_type": "code",
   "execution_count": 20,
   "metadata": {},
   "outputs": [
    {
     "data": {
      "text/plain": [
       "<matplotlib.axes._subplots.AxesSubplot at 0x7cb2b48048>"
      ]
     },
     "execution_count": 20,
     "metadata": {},
     "output_type": "execute_result"
    },
    {
     "data": {
      "image/png": "[encoded data removed]",
      "text/plain": [
       "<Figure size 432x288 with 2 Axes>"
      ]
     },
     "metadata": {
      "needs_background": "light"
     },
     "output_type": "display_data"
    }
   ],
   "source": [
    "sb.heatmap(corr_matrix, annot=True)"
   ]
  },
  {
   "cell_type": "markdown",
   "metadata": {},
   "source": [
    "### Feature scaling ###"
   ]
  },
  {
   "cell_type": "code",
   "execution_count": 21,
   "metadata": {},
   "outputs": [],
   "source": [
    "for i in num_cname:\n",
    "    bankdata[i] = pd.to_numeric(bankdata[i], downcast='float')\n",
    "    "
   ]
  },
  {
   "cell_type": "code",
   "execution_count": 22,
   "metadata": {},
   "outputs": [],
   "source": [
    "#Nomalisation\n",
    "for i in num_cname:\n",
    "    #print(i)\n",
    "    min = bankdata[i].min()\n",
    "    max = bankdata[i].max()\n",
    "    bankdata[i] = (bankdata[i] - min)/( max - min )"
   ]
  },
  {
   "cell_type": "code",
   "execution_count": 23,
   "metadata": {},
   "outputs": [],
   "source": [
    "#Standarisation\n",
    "for i in num_cname:\n",
    "    #print(i)\n",
    "    bankdata[i] = (bankdata[i] - bankdata[i].mean())/bankdata[i].std()"
   ]
  },
  {
   "cell_type": "code",
   "execution_count": 24,
   "metadata": {},
   "outputs": [
    {
     "data": {
      "image/png": "[encoded data removed]",
      "text/plain": [
       "<Figure size 1008x2468.57 with 7 Axes>"
      ]
     },
     "metadata": {
      "needs_background": "light"
     },
     "output_type": "display_data"
    }
   ],
   "source": [
    "#To check distribution-Skewness\n",
    "plt.figure(figsize=(2*number_of_columns,5*number_of_rows))\n",
    "for i in range(0,len(l)):\n",
    "    plt.subplot(number_of_rows + 1,number_of_columns,i+1)\n",
    "    sb.distplot(bankdata[l[i]],kde=True) "
   ]
  },
  {
   "cell_type": "code",
   "execution_count": 25,
   "metadata": {},
   "outputs": [
    {
     "data": {
      "text/html": [
       "<div>\n",
       "<style scoped>\n",
       "    .dataframe tbody tr th:only-of-type {\n",
       "        vertical-align: middle;\n",
       "    }\n",
       "\n",
       "    .dataframe tbody tr th {\n",
       "        vertical-align: top;\n",
       "    }\n",
       "\n",
       "    .dataframe thead th {\n",
       "        text-align: right;\n",
       "    }\n",
       "</style>\n",
       "<table border=\"1\" class=\"dataframe\">\n",
       "  <thead>\n",
       "    <tr style=\"text-align: right;\">\n",
       "      <th></th>\n",
       "      <th>age</th>\n",
       "      <th>ed</th>\n",
       "      <th>employ</th>\n",
       "      <th>address</th>\n",
       "      <th>income</th>\n",
       "      <th>debtinc</th>\n",
       "      <th>creddebt</th>\n",
       "      <th>othdebt</th>\n",
       "      <th>default</th>\n",
       "    </tr>\n",
       "  </thead>\n",
       "  <tbody>\n",
       "    <tr>\n",
       "      <th>1</th>\n",
       "      <td>-0.866888</td>\n",
       "      <td>1</td>\n",
       "      <td>0.561753</td>\n",
       "      <td>-0.234455</td>\n",
       "      <td>-0.233258</td>\n",
       "      <td>1.620037</td>\n",
       "      <td>0.615319</td>\n",
       "      <td>1.547493</td>\n",
       "      <td>0.0</td>\n",
       "    </tr>\n",
       "    <tr>\n",
       "      <th>2</th>\n",
       "      <td>0.884568</td>\n",
       "      <td>1</td>\n",
       "      <td>1.470592</td>\n",
       "      <td>1.078692</td>\n",
       "      <td>1.173720</td>\n",
       "      <td>-0.603701</td>\n",
       "      <td>-0.054256</td>\n",
       "      <td>0.182424</td>\n",
       "      <td>0.0</td>\n",
       "    </tr>\n",
       "    <tr>\n",
       "      <th>4</th>\n",
       "      <td>-1.271070</td>\n",
       "      <td>2</td>\n",
       "      <td>-0.892390</td>\n",
       "      <td>-1.219316</td>\n",
       "      <td>-0.409130</td>\n",
       "      <td>1.620037</td>\n",
       "      <td>1.177877</td>\n",
       "      <td>0.843871</td>\n",
       "      <td>1.0</td>\n",
       "    </tr>\n",
       "    <tr>\n",
       "      <th>5</th>\n",
       "      <td>1.019295</td>\n",
       "      <td>2</td>\n",
       "      <td>-0.347087</td>\n",
       "      <td>-0.398599</td>\n",
       "      <td>-0.585002</td>\n",
       "      <td>0.282025</td>\n",
       "      <td>-0.667272</td>\n",
       "      <td>0.173761</td>\n",
       "      <td>0.0</td>\n",
       "    </tr>\n",
       "    <tr>\n",
       "      <th>7</th>\n",
       "      <td>1.288750</td>\n",
       "      <td>1</td>\n",
       "      <td>0.925288</td>\n",
       "      <td>0.586262</td>\n",
       "      <td>0.177111</td>\n",
       "      <td>-0.961761</td>\n",
       "      <td>-1.016670</td>\n",
       "      <td>-0.510230</td>\n",
       "      <td>0.0</td>\n",
       "    </tr>\n",
       "    <tr>\n",
       "      <th>...</th>\n",
       "      <td>...</td>\n",
       "      <td>...</td>\n",
       "      <td>...</td>\n",
       "      <td>...</td>\n",
       "      <td>...</td>\n",
       "      <td>...</td>\n",
       "      <td>...</td>\n",
       "      <td>...</td>\n",
       "      <td>...</td>\n",
       "    </tr>\n",
       "    <tr>\n",
       "      <th>844</th>\n",
       "      <td>-1.405797</td>\n",
       "      <td>1</td>\n",
       "      <td>-0.710622</td>\n",
       "      <td>-0.562742</td>\n",
       "      <td>-1.288492</td>\n",
       "      <td>-1.055987</td>\n",
       "      <td>-1.126544</td>\n",
       "      <td>-1.167436</td>\n",
       "      <td>0.0</td>\n",
       "    </tr>\n",
       "    <tr>\n",
       "      <th>845</th>\n",
       "      <td>0.076204</td>\n",
       "      <td>1</td>\n",
       "      <td>0.925288</td>\n",
       "      <td>1.242835</td>\n",
       "      <td>-0.174634</td>\n",
       "      <td>-1.131368</td>\n",
       "      <td>-0.870174</td>\n",
       "      <td>-0.968317</td>\n",
       "      <td>0.0</td>\n",
       "    </tr>\n",
       "    <tr>\n",
       "      <th>847</th>\n",
       "      <td>1.962387</td>\n",
       "      <td>1</td>\n",
       "      <td>1.107056</td>\n",
       "      <td>0.586262</td>\n",
       "      <td>0.177111</td>\n",
       "      <td>0.395097</td>\n",
       "      <td>-0.231226</td>\n",
       "      <td>1.086152</td>\n",
       "      <td>0.0</td>\n",
       "    </tr>\n",
       "    <tr>\n",
       "      <th>848</th>\n",
       "      <td>0.210931</td>\n",
       "      <td>2</td>\n",
       "      <td>-1.074158</td>\n",
       "      <td>0.586262</td>\n",
       "      <td>-0.643627</td>\n",
       "      <td>-0.170261</td>\n",
       "      <td>-0.634521</td>\n",
       "      <td>-0.349916</td>\n",
       "      <td>0.0</td>\n",
       "    </tr>\n",
       "    <tr>\n",
       "      <th>849</th>\n",
       "      <td>0.480386</td>\n",
       "      <td>1</td>\n",
       "      <td>2.379431</td>\n",
       "      <td>0.914548</td>\n",
       "      <td>0.352983</td>\n",
       "      <td>0.790847</td>\n",
       "      <td>0.002704</td>\n",
       "      <td>1.837419</td>\n",
       "      <td>0.0</td>\n",
       "    </tr>\n",
       "  </tbody>\n",
       "</table>\n",
       "<p>663 rows × 9 columns</p>\n",
       "</div>"
      ],
      "text/plain": [
       "          age ed    employ   address    income   debtinc  creddebt   othdebt  \\\n",
       "1   -0.866888  1  0.561753 -0.234455 -0.233258  1.620037  0.615319  1.547493   \n",
       "2    0.884568  1  1.470592  1.078692  1.173720 -0.603701 -0.054256  0.182424   \n",
       "4   -1.271070  2 -0.892390 -1.219316 -0.409130  1.620037  1.177877  0.843871   \n",
       "5    1.019295  2 -0.347087 -0.398599 -0.585002  0.282025 -0.667272  0.173761   \n",
       "7    1.288750  1  0.925288  0.586262  0.177111 -0.961761 -1.016670 -0.510230   \n",
       "..        ... ..       ...       ...       ...       ...       ...       ...   \n",
       "844 -1.405797  1 -0.710622 -0.562742 -1.288492 -1.055987 -1.126544 -1.167436   \n",
       "845  0.076204  1  0.925288  1.242835 -0.174634 -1.131368 -0.870174 -0.968317   \n",
       "847  1.962387  1  1.107056  0.586262  0.177111  0.395097 -0.231226  1.086152   \n",
       "848  0.210931  2 -1.074158  0.586262 -0.643627 -0.170261 -0.634521 -0.349916   \n",
       "849  0.480386  1  2.379431  0.914548  0.352983  0.790847  0.002704  1.837419   \n",
       "\n",
       "     default  \n",
       "1        0.0  \n",
       "2        0.0  \n",
       "4        1.0  \n",
       "5        0.0  \n",
       "7        0.0  \n",
       "..       ...  \n",
       "844      0.0  \n",
       "845      0.0  \n",
       "847      0.0  \n",
       "848      0.0  \n",
       "849      0.0  \n",
       "\n",
       "[663 rows x 9 columns]"
      ]
     },
     "execution_count": 25,
     "metadata": {},
     "output_type": "execute_result"
    }
   ],
   "source": [
    "bankdata"
   ]
  },
  {
   "cell_type": "code",
   "execution_count": 26,
   "metadata": {},
   "outputs": [
    {
     "name": "stdout",
     "output_type": "stream",
     "text": [
      "age\n",
      "0.4493870139122009\n",
      "employ\n",
      "0.7716341018676758\n",
      "address\n",
      "0.8716763257980347\n",
      "income\n",
      "1.3585400581359863\n",
      "debtinc\n",
      "0.8716152310371399\n",
      "creddebt\n",
      "1.1178762912750244\n",
      "othdebt\n",
      "0.947480320930481\n"
     ]
    }
   ],
   "source": [
    "#Skewness Test\n",
    "from scipy.stats import skew\n",
    "for x in num_cname:\n",
    "    print(x)\n",
    "    skew_test = skew(bankdata.loc[:,x])\n",
    "    print(skew_test)"
   ]
  },
  {
   "cell_type": "markdown",
   "metadata": {},
   "source": [
    "### Sampling and Data modeling ###"
   ]
  },
  {
   "cell_type": "code",
   "execution_count": 27,
   "metadata": {},
   "outputs": [],
   "source": [
    "#now divide data for training and testing \n",
    "bank = bankdata.copy()\n",
    "X = bank.drop(['default'],axis=1) \n",
    "Y = bank['default']\n"
   ]
  },
  {
   "cell_type": "code",
   "execution_count": 28,
   "metadata": {},
   "outputs": [
    {
     "data": {
      "text/html": [
       "<div>\n",
       "<style scoped>\n",
       "    .dataframe tbody tr th:only-of-type {\n",
       "        vertical-align: middle;\n",
       "    }\n",
       "\n",
       "    .dataframe tbody tr th {\n",
       "        vertical-align: top;\n",
       "    }\n",
       "\n",
       "    .dataframe thead th {\n",
       "        text-align: right;\n",
       "    }\n",
       "</style>\n",
       "<table border=\"1\" class=\"dataframe\">\n",
       "  <thead>\n",
       "    <tr style=\"text-align: right;\">\n",
       "      <th></th>\n",
       "      <th>age</th>\n",
       "      <th>ed</th>\n",
       "      <th>employ</th>\n",
       "      <th>address</th>\n",
       "      <th>income</th>\n",
       "      <th>debtinc</th>\n",
       "      <th>creddebt</th>\n",
       "      <th>othdebt</th>\n",
       "    </tr>\n",
       "  </thead>\n",
       "  <tbody>\n",
       "    <tr>\n",
       "      <th>1</th>\n",
       "      <td>-0.866888</td>\n",
       "      <td>1</td>\n",
       "      <td>0.561753</td>\n",
       "      <td>-0.234455</td>\n",
       "      <td>-0.233258</td>\n",
       "      <td>1.620037</td>\n",
       "      <td>0.615319</td>\n",
       "      <td>1.547493</td>\n",
       "    </tr>\n",
       "    <tr>\n",
       "      <th>2</th>\n",
       "      <td>0.884568</td>\n",
       "      <td>1</td>\n",
       "      <td>1.470592</td>\n",
       "      <td>1.078692</td>\n",
       "      <td>1.173720</td>\n",
       "      <td>-0.603701</td>\n",
       "      <td>-0.054256</td>\n",
       "      <td>0.182424</td>\n",
       "    </tr>\n",
       "    <tr>\n",
       "      <th>4</th>\n",
       "      <td>-1.271070</td>\n",
       "      <td>2</td>\n",
       "      <td>-0.892390</td>\n",
       "      <td>-1.219316</td>\n",
       "      <td>-0.409130</td>\n",
       "      <td>1.620037</td>\n",
       "      <td>1.177877</td>\n",
       "      <td>0.843871</td>\n",
       "    </tr>\n",
       "    <tr>\n",
       "      <th>5</th>\n",
       "      <td>1.019295</td>\n",
       "      <td>2</td>\n",
       "      <td>-0.347087</td>\n",
       "      <td>-0.398599</td>\n",
       "      <td>-0.585002</td>\n",
       "      <td>0.282025</td>\n",
       "      <td>-0.667272</td>\n",
       "      <td>0.173761</td>\n",
       "    </tr>\n",
       "    <tr>\n",
       "      <th>7</th>\n",
       "      <td>1.288750</td>\n",
       "      <td>1</td>\n",
       "      <td>0.925288</td>\n",
       "      <td>0.586262</td>\n",
       "      <td>0.177111</td>\n",
       "      <td>-0.961761</td>\n",
       "      <td>-1.016670</td>\n",
       "      <td>-0.510230</td>\n",
       "    </tr>\n",
       "    <tr>\n",
       "      <th>...</th>\n",
       "      <td>...</td>\n",
       "      <td>...</td>\n",
       "      <td>...</td>\n",
       "      <td>...</td>\n",
       "      <td>...</td>\n",
       "      <td>...</td>\n",
       "      <td>...</td>\n",
       "      <td>...</td>\n",
       "    </tr>\n",
       "    <tr>\n",
       "      <th>844</th>\n",
       "      <td>-1.405797</td>\n",
       "      <td>1</td>\n",
       "      <td>-0.710622</td>\n",
       "      <td>-0.562742</td>\n",
       "      <td>-1.288492</td>\n",
       "      <td>-1.055987</td>\n",
       "      <td>-1.126544</td>\n",
       "      <td>-1.167436</td>\n",
       "    </tr>\n",
       "    <tr>\n",
       "      <th>845</th>\n",
       "      <td>0.076204</td>\n",
       "      <td>1</td>\n",
       "      <td>0.925288</td>\n",
       "      <td>1.242835</td>\n",
       "      <td>-0.174634</td>\n",
       "      <td>-1.131368</td>\n",
       "      <td>-0.870174</td>\n",
       "      <td>-0.968317</td>\n",
       "    </tr>\n",
       "    <tr>\n",
       "      <th>847</th>\n",
       "      <td>1.962387</td>\n",
       "      <td>1</td>\n",
       "      <td>1.107056</td>\n",
       "      <td>0.586262</td>\n",
       "      <td>0.177111</td>\n",
       "      <td>0.395097</td>\n",
       "      <td>-0.231226</td>\n",
       "      <td>1.086152</td>\n",
       "    </tr>\n",
       "    <tr>\n",
       "      <th>848</th>\n",
       "      <td>0.210931</td>\n",
       "      <td>2</td>\n",
       "      <td>-1.074158</td>\n",
       "      <td>0.586262</td>\n",
       "      <td>-0.643627</td>\n",
       "      <td>-0.170261</td>\n",
       "      <td>-0.634521</td>\n",
       "      <td>-0.349916</td>\n",
       "    </tr>\n",
       "    <tr>\n",
       "      <th>849</th>\n",
       "      <td>0.480386</td>\n",
       "      <td>1</td>\n",
       "      <td>2.379431</td>\n",
       "      <td>0.914548</td>\n",
       "      <td>0.352983</td>\n",
       "      <td>0.790847</td>\n",
       "      <td>0.002704</td>\n",
       "      <td>1.837419</td>\n",
       "    </tr>\n",
       "  </tbody>\n",
       "</table>\n",
       "<p>663 rows × 8 columns</p>\n",
       "</div>"
      ],
      "text/plain": [
       "          age ed    employ   address    income   debtinc  creddebt   othdebt\n",
       "1   -0.866888  1  0.561753 -0.234455 -0.233258  1.620037  0.615319  1.547493\n",
       "2    0.884568  1  1.470592  1.078692  1.173720 -0.603701 -0.054256  0.182424\n",
       "4   -1.271070  2 -0.892390 -1.219316 -0.409130  1.620037  1.177877  0.843871\n",
       "5    1.019295  2 -0.347087 -0.398599 -0.585002  0.282025 -0.667272  0.173761\n",
       "7    1.288750  1  0.925288  0.586262  0.177111 -0.961761 -1.016670 -0.510230\n",
       "..        ... ..       ...       ...       ...       ...       ...       ...\n",
       "844 -1.405797  1 -0.710622 -0.562742 -1.288492 -1.055987 -1.126544 -1.167436\n",
       "845  0.076204  1  0.925288  1.242835 -0.174634 -1.131368 -0.870174 -0.968317\n",
       "847  1.962387  1  1.107056  0.586262  0.177111  0.395097 -0.231226  1.086152\n",
       "848  0.210931  2 -1.074158  0.586262 -0.643627 -0.170261 -0.634521 -0.349916\n",
       "849  0.480386  1  2.379431  0.914548  0.352983  0.790847  0.002704  1.837419\n",
       "\n",
       "[663 rows x 8 columns]"
      ]
     },
     "execution_count": 28,
     "metadata": {},
     "output_type": "execute_result"
    }
   ],
   "source": [
    "X"
   ]
  },
  {
   "cell_type": "code",
   "execution_count": 29,
   "metadata": {},
   "outputs": [
    {
     "data": {
      "text/plain": [
       "1      0.0\n",
       "2      0.0\n",
       "4      1.0\n",
       "5      0.0\n",
       "7      0.0\n",
       "      ... \n",
       "844    0.0\n",
       "845    0.0\n",
       "847    0.0\n",
       "848    0.0\n",
       "849    0.0\n",
       "Name: default, Length: 663, dtype: float64"
      ]
     },
     "execution_count": 29,
     "metadata": {},
     "output_type": "execute_result"
    }
   ],
   "source": [
    "Y"
   ]
  },
  {
   "cell_type": "code",
   "execution_count": 30,
   "metadata": {},
   "outputs": [],
   "source": [
    "# Splitting the dataset into 80% training data and 20% testing data.\n",
    "from sklearn.model_selection import train_test_split \n",
    "X_train, X_test, Y_train, Y_test = train_test_split(X, Y, test_size=.20, random_state=0)# Splitting the dataset into 80% training data and 20% testing data.\n",
    "X_train, X_test, Y_train, Y_test = train_test_split(X, Y, test_size=.20, random_state=0)"
   ]
  },
  {
   "cell_type": "code",
   "execution_count": 31,
   "metadata": {},
   "outputs": [
    {
     "data": {
      "text/html": [
       "<div>\n",
       "<style scoped>\n",
       "    .dataframe tbody tr th:only-of-type {\n",
       "        vertical-align: middle;\n",
       "    }\n",
       "\n",
       "    .dataframe tbody tr th {\n",
       "        vertical-align: top;\n",
       "    }\n",
       "\n",
       "    .dataframe thead th {\n",
       "        text-align: right;\n",
       "    }\n",
       "</style>\n",
       "<table border=\"1\" class=\"dataframe\">\n",
       "  <thead>\n",
       "    <tr style=\"text-align: right;\">\n",
       "      <th></th>\n",
       "      <th>age</th>\n",
       "      <th>ed</th>\n",
       "      <th>employ</th>\n",
       "      <th>address</th>\n",
       "      <th>income</th>\n",
       "      <th>debtinc</th>\n",
       "      <th>creddebt</th>\n",
       "      <th>othdebt</th>\n",
       "    </tr>\n",
       "  </thead>\n",
       "  <tbody>\n",
       "    <tr>\n",
       "      <th>739</th>\n",
       "      <td>-1.271070</td>\n",
       "      <td>1</td>\n",
       "      <td>-0.528854</td>\n",
       "      <td>-1.055172</td>\n",
       "      <td>-0.702251</td>\n",
       "      <td>-0.716773</td>\n",
       "      <td>-0.866235</td>\n",
       "      <td>-0.774554</td>\n",
       "    </tr>\n",
       "    <tr>\n",
       "      <th>345</th>\n",
       "      <td>-0.462705</td>\n",
       "      <td>1</td>\n",
       "      <td>-1.255926</td>\n",
       "      <td>0.093831</td>\n",
       "      <td>-0.936747</td>\n",
       "      <td>1.488121</td>\n",
       "      <td>-0.360626</td>\n",
       "      <td>0.451122</td>\n",
       "    </tr>\n",
       "    <tr>\n",
       "      <th>246</th>\n",
       "      <td>0.749841</td>\n",
       "      <td>1</td>\n",
       "      <td>1.470592</td>\n",
       "      <td>1.406978</td>\n",
       "      <td>0.235735</td>\n",
       "      <td>-1.300975</td>\n",
       "      <td>-1.001978</td>\n",
       "      <td>-1.014793</td>\n",
       "    </tr>\n",
       "    <tr>\n",
       "      <th>652</th>\n",
       "      <td>-0.462705</td>\n",
       "      <td>1</td>\n",
       "      <td>0.925288</td>\n",
       "      <td>0.422118</td>\n",
       "      <td>0.177111</td>\n",
       "      <td>-0.038344</td>\n",
       "      <td>-0.960316</td>\n",
       "      <td>0.845545</td>\n",
       "    </tr>\n",
       "    <tr>\n",
       "      <th>683</th>\n",
       "      <td>-1.675252</td>\n",
       "      <td>1</td>\n",
       "      <td>-1.074158</td>\n",
       "      <td>-1.055172</td>\n",
       "      <td>-1.112619</td>\n",
       "      <td>-0.452939</td>\n",
       "      <td>-1.000097</td>\n",
       "      <td>-0.787829</td>\n",
       "    </tr>\n",
       "    <tr>\n",
       "      <th>...</th>\n",
       "      <td>...</td>\n",
       "      <td>...</td>\n",
       "      <td>...</td>\n",
       "      <td>...</td>\n",
       "      <td>...</td>\n",
       "      <td>...</td>\n",
       "      <td>...</td>\n",
       "      <td>...</td>\n",
       "    </tr>\n",
       "    <tr>\n",
       "      <th>13</th>\n",
       "      <td>0.480386</td>\n",
       "      <td>1</td>\n",
       "      <td>-0.165319</td>\n",
       "      <td>0.257975</td>\n",
       "      <td>-0.350506</td>\n",
       "      <td>1.431585</td>\n",
       "      <td>1.083241</td>\n",
       "      <td>0.809992</td>\n",
       "    </tr>\n",
       "    <tr>\n",
       "      <th>447</th>\n",
       "      <td>1.154023</td>\n",
       "      <td>1</td>\n",
       "      <td>0.016449</td>\n",
       "      <td>0.750405</td>\n",
       "      <td>-0.585002</td>\n",
       "      <td>0.282025</td>\n",
       "      <td>0.968872</td>\n",
       "      <td>-0.747835</td>\n",
       "    </tr>\n",
       "    <tr>\n",
       "      <th>232</th>\n",
       "      <td>0.615113</td>\n",
       "      <td>2</td>\n",
       "      <td>0.198217</td>\n",
       "      <td>1.406978</td>\n",
       "      <td>0.177111</td>\n",
       "      <td>-1.527118</td>\n",
       "      <td>-1.147879</td>\n",
       "      <td>-1.285824</td>\n",
       "    </tr>\n",
       "    <tr>\n",
       "      <th>800</th>\n",
       "      <td>-1.271070</td>\n",
       "      <td>1</td>\n",
       "      <td>-1.074158</td>\n",
       "      <td>-0.398599</td>\n",
       "      <td>-1.112619</td>\n",
       "      <td>0.093573</td>\n",
       "      <td>-0.941422</td>\n",
       "      <td>-0.475117</td>\n",
       "    </tr>\n",
       "    <tr>\n",
       "      <th>713</th>\n",
       "      <td>2.231842</td>\n",
       "      <td>3</td>\n",
       "      <td>3.288271</td>\n",
       "      <td>-0.070312</td>\n",
       "      <td>3.460060</td>\n",
       "      <td>-0.641392</td>\n",
       "      <td>1.106835</td>\n",
       "      <td>0.986722</td>\n",
       "    </tr>\n",
       "  </tbody>\n",
       "</table>\n",
       "<p>530 rows × 8 columns</p>\n",
       "</div>"
      ],
      "text/plain": [
       "          age ed    employ   address    income   debtinc  creddebt   othdebt\n",
       "739 -1.271070  1 -0.528854 -1.055172 -0.702251 -0.716773 -0.866235 -0.774554\n",
       "345 -0.462705  1 -1.255926  0.093831 -0.936747  1.488121 -0.360626  0.451122\n",
       "246  0.749841  1  1.470592  1.406978  0.235735 -1.300975 -1.001978 -1.014793\n",
       "652 -0.462705  1  0.925288  0.422118  0.177111 -0.038344 -0.960316  0.845545\n",
       "683 -1.675252  1 -1.074158 -1.055172 -1.112619 -0.452939 -1.000097 -0.787829\n",
       "..        ... ..       ...       ...       ...       ...       ...       ...\n",
       "13   0.480386  1 -0.165319  0.257975 -0.350506  1.431585  1.083241  0.809992\n",
       "447  1.154023  1  0.016449  0.750405 -0.585002  0.282025  0.968872 -0.747835\n",
       "232  0.615113  2  0.198217  1.406978  0.177111 -1.527118 -1.147879 -1.285824\n",
       "800 -1.271070  1 -1.074158 -0.398599 -1.112619  0.093573 -0.941422 -0.475117\n",
       "713  2.231842  3  3.288271 -0.070312  3.460060 -0.641392  1.106835  0.986722\n",
       "\n",
       "[530 rows x 8 columns]"
      ]
     },
     "execution_count": 31,
     "metadata": {},
     "output_type": "execute_result"
    }
   ],
   "source": [
    "X_train"
   ]
  },
  {
   "cell_type": "code",
   "execution_count": 32,
   "metadata": {},
   "outputs": [
    {
     "data": {
      "text/plain": [
       "526    0.0\n",
       "372    0.0\n",
       "19     0.0\n",
       "816    0.0\n",
       "92     0.0\n",
       "      ... \n",
       "799    0.0\n",
       "620    0.0\n",
       "123    1.0\n",
       "285    0.0\n",
       "182    0.0\n",
       "Name: default, Length: 133, dtype: float64"
      ]
     },
     "execution_count": 32,
     "metadata": {},
     "output_type": "execute_result"
    }
   ],
   "source": [
    "Y_test"
   ]
  },
  {
   "cell_type": "code",
   "execution_count": 33,
   "metadata": {},
   "outputs": [
    {
     "data": {
      "text/plain": [
       "739    0.0\n",
       "345    1.0\n",
       "246    0.0\n",
       "652    0.0\n",
       "683    0.0\n",
       "      ... \n",
       "13     0.0\n",
       "447    0.0\n",
       "232    0.0\n",
       "800    0.0\n",
       "713    0.0\n",
       "Name: default, Length: 530, dtype: float64"
      ]
     },
     "execution_count": 33,
     "metadata": {},
     "output_type": "execute_result"
    }
   ],
   "source": [
    "Y_train"
   ]
  },
  {
   "cell_type": "markdown",
   "metadata": {},
   "source": [
    "## Modeling ###"
   ]
  },
  {
   "cell_type": "code",
   "execution_count": 34,
   "metadata": {},
   "outputs": [],
   "source": [
    "# Defining confusion metrics\n",
    "def error_metric(CM): \n",
    "    \n",
    "    TN = CM.iloc[0,0]\n",
    "    FN = CM.iloc[1,0]\n",
    "    TP = CM.iloc[1,1]\n",
    "    FP = CM.iloc[0,1]\n",
    "    precision =(TP)/(TP+FP)\n",
    "    accuracy_model  =(TP+TN)/(TP+TN+FP+FN)*100\n",
    "    recall_score  =(TP)/(TP+FN)\n",
    "    specificity_value =(TN)/(TN + FP)\n",
    "    False_positive_rate =(FP)/(FP+TN)\n",
    "    False_negative_rate =(FN)/(FN+TP)\n",
    "    f1_score =2*(( precision * recall_score)/( precision + recall_score))\n",
    "    print(\"Precision value of the model: \",precision)\n",
    "    print(\"Accuracy of the model: \",accuracy_model)\n",
    "    print(\"Recall value of the model: \",recall_score)\n",
    "    print(\"Specificity of the model: \",specificity_value)\n",
    "    print(\"False Positive rate of the model: \",False_positive_rate)\n",
    "    print(\"False Negative rate of the model: \",False_negative_rate)\n",
    "    print(\"f1 score of the model: \",f1_score)\n",
    "    \n",
    "    "
   ]
  },
  {
   "cell_type": "code",
   "execution_count": 35,
   "metadata": {},
   "outputs": [],
   "source": [
    "def ROC_curve(y_act ,y_pred) :\n",
    "    FPR,TPR,thresholds=roc_curve(y_act ,y_pred)\n",
    "    plt.plot(FPR,TPR)\n",
    "    plt.title('ROC curve of the model')\n",
    "    plt.xlim([0.0, 1.0])\n",
    "    plt.ylim([0.0, 1.0])\n",
    "    plt.xlabel('False Positive Rate')\n",
    "    plt.ylabel('True Positive Rate')\n",
    "    plt.show()\n",
    "    AUC = auc(FPR,TPR)\n",
    "    print(\"AUC value of the model: %.2f\"%AUC)\n",
    "    "
   ]
  },
  {
   "cell_type": "code",
   "execution_count": 36,
   "metadata": {},
   "outputs": [],
   "source": [
    "def Precision_recall_curve(y_act ,y_pred) :\n",
    "    recall,precision,thresholds=precision_recall_curve(y_act ,y_pred)\n",
    "    plt.plot(recall,precision)\n",
    "    plt.title('Precision-Recall curve of the model')\n",
    "    plt.xlabel('Recall')\n",
    "    plt.ylabel('Precision')\n",
    "    plt.show()"
   ]
  },
  {
   "cell_type": "markdown",
   "metadata": {},
   "source": [
    "### Logistic Regression"
   ]
  },
  {
   "cell_type": "code",
   "execution_count": 37,
   "metadata": {},
   "outputs": [
    {
     "name": "stdout",
     "output_type": "stream",
     "text": [
      "Precision value of the model:  0.4055299539170507\n",
      "Accuracy of the model:  71.1320754716981\n",
      "Recall value of the model:  0.7857142857142857\n",
      "Specificity of the model:  0.6913875598086124\n",
      "False Positive rate of the model:  0.30861244019138756\n",
      "False Negative rate of the model:  0.21428571428571427\n",
      "f1 score of the model:  0.5349544072948329\n"
     ]
    },
    {
     "data": {
      "image/png": "[encoded data removed]",
      "text/plain": [
       "<Figure size 432x288 with 1 Axes>"
      ]
     },
     "metadata": {
      "needs_background": "light"
     },
     "output_type": "display_data"
    },
    {
     "name": "stdout",
     "output_type": "stream",
     "text": [
      "AUC value of the model: 0.81\n"
     ]
    },
    {
     "data": {
      "image/png": "[encoded data removed]",
      "text/plain": [
       "<Figure size 432x288 with 1 Axes>"
      ]
     },
     "metadata": {
      "needs_background": "light"
     },
     "output_type": "display_data"
    }
   ],
   "source": [
    "# Logistic Regression\n",
    "\n",
    "logistic_model = LogisticRegression(class_weight='balanced' , random_state=0).fit(X_train,Y_train)\n",
    "target_predict = logistic_model.predict(X_train)\n",
    "targetclass_prob = logistic_model.predict_proba(X_train)[:, 1]\n",
    "confusion_matrix = pd.crosstab(Y_train,target_predict)\n",
    "error_metric(confusion_matrix)\n",
    "ROC_curve(Y_train,targetclass_prob)\n",
    "Precision_recall_curve(Y_train,targetclass_prob)"
   ]
  },
  {
   "cell_type": "markdown",
   "metadata": {},
   "source": [
    "### Random Forest"
   ]
  },
  {
   "cell_type": "code",
   "execution_count": 38,
   "metadata": {},
   "outputs": [
    {
     "name": "stdout",
     "output_type": "stream",
     "text": [
      "Precision value of the model:  0.4055299539170507\n",
      "Accuracy of the model:  71.1320754716981\n",
      "Recall value of the model:  0.7857142857142857\n",
      "Specificity of the model:  0.6913875598086124\n",
      "False Positive rate of the model:  0.30861244019138756\n",
      "False Negative rate of the model:  0.21428571428571427\n",
      "f1 score of the model:  0.5349544072948329\n"
     ]
    },
    {
     "data": {
      "image/png": "[encoded data removed]",
      "text/plain": [
       "<Figure size 432x288 with 1 Axes>"
      ]
     },
     "metadata": {
      "needs_background": "light"
     },
     "output_type": "display_data"
    },
    {
     "name": "stdout",
     "output_type": "stream",
     "text": [
      "AUC value of the model: 1.00\n"
     ]
    },
    {
     "data": {
      "image/png": "[encoded data removed]",
      "text/plain": [
       "<Figure size 432x288 with 1 Axes>"
      ]
     },
     "metadata": {
      "needs_background": "light"
     },
     "output_type": "display_data"
    }
   ],
   "source": [
    "from sklearn.ensemble import RandomForestClassifier\n",
    "\n",
    "RF_model = RandomForestClassifier().fit(X_train, Y_train)\n",
    "target_predict = RF_model.predict(X_test)\n",
    "targetclass_prob = RF_model.predict_proba(X_train)[:, 1]\n",
    "#confusion_matrix = pd.crosstab(Y_train,target_predict)\n",
    "error_metric(confusion_matrix)\n",
    "ROC_curve(Y_train,targetclass_prob)\n",
    "Precision_recall_curve(Y_train,targetclass_prob)"
   ]
  },
  {
   "cell_type": "markdown",
   "metadata": {},
   "source": [
    "### Decision Tree "
   ]
  },
  {
   "cell_type": "code",
   "execution_count": 39,
   "metadata": {},
   "outputs": [
    {
     "name": "stdout",
     "output_type": "stream",
     "text": [
      "Precision value of the model:  0.4810810810810811\n",
      "Accuracy of the model:  77.54716981132076\n",
      "Recall value of the model:  0.7946428571428571\n",
      "Specificity of the model:  0.7703349282296651\n",
      "False Positive rate of the model:  0.22966507177033493\n",
      "False Negative rate of the model:  0.20535714285714285\n",
      "f1 score of the model:  0.5993265993265993\n"
     ]
    },
    {
     "data": {
      "image/png": "[encoded data removed]",
      "text/plain": [
       "<Figure size 432x288 with 1 Axes>"
      ]
     },
     "metadata": {
      "needs_background": "light"
     },
     "output_type": "display_data"
    },
    {
     "name": "stdout",
     "output_type": "stream",
     "text": [
      "AUC value of the model: 0.82\n"
     ]
    },
    {
     "data": {
      "image/png": "[encoded data removed]",
      "text/plain": [
       "<Figure size 432x288 with 1 Axes>"
      ]
     },
     "metadata": {
      "needs_background": "light"
     },
     "output_type": "display_data"
    }
   ],
   "source": [
    "#Decision Trees\n",
    "decision_model = DecisionTreeClassifier(max_depth=3 ,class_weight='balanced' ,random_state =0).fit(X_train,Y_train)\n",
    "target_predict = decision_model.predict(X_train)\n",
    "targetclass_prob = decision_model.predict_proba(X_train)[:, 1]\n",
    "confusion_matrix = pd.crosstab(Y_train,target_predict)\n",
    "error_metric(confusion_matrix)\n",
    "ROC_curve(Y_train,targetclass_prob)\n",
    "Precision_recall_curve(Y_train,targetclass_prob)"
   ]
  },
  {
   "cell_type": "markdown",
   "metadata": {},
   "source": [
    "### XGboost model"
   ]
  },
  {
   "cell_type": "code",
   "execution_count": 40,
   "metadata": {},
   "outputs": [],
   "source": [
    "xgb_model = XGBClassifier(max_depth=5,scale_pos_weight=2,learning_rate=0.1)"
   ]
  },
  {
   "cell_type": "code",
   "execution_count": 41,
   "metadata": {},
   "outputs": [
    {
     "data": {
      "text/plain": [
       "XGBClassifier(base_score=0.5, booster='gbtree', colsample_bylevel=1,\n",
       "              colsample_bynode=1, colsample_bytree=1, gamma=0, gpu_id=-1,\n",
       "              importance_type='gain', interaction_constraints='',\n",
       "              learning_rate=0.1, max_delta_step=0, max_depth=5,\n",
       "              min_child_weight=1, missing=nan, monotone_constraints='()',\n",
       "              n_estimators=100, n_jobs=0, num_parallel_tree=1,\n",
       "              objective='binary:logistic', random_state=0, reg_alpha=0,\n",
       "              reg_lambda=1, scale_pos_weight=2, subsample=1,\n",
       "              tree_method='exact', validate_parameters=1, verbosity=None)"
      ]
     },
     "execution_count": 41,
     "metadata": {},
     "output_type": "execute_result"
    }
   ],
   "source": [
    "X_train = X_train.astype('float32')\n",
    "Y_train = Y_train.astype('float32')\n",
    "xgb_model.fit(X_train,Y_train)\n"
   ]
  },
  {
   "cell_type": "code",
   "execution_count": 42,
   "metadata": {},
   "outputs": [
    {
     "name": "stdout",
     "output_type": "stream",
     "text": [
      "Precision value of the model:  0.4810810810810811\n",
      "Accuracy of the model:  77.54716981132076\n",
      "Recall value of the model:  0.7946428571428571\n",
      "Specificity of the model:  0.7703349282296651\n",
      "False Positive rate of the model:  0.22966507177033493\n",
      "False Negative rate of the model:  0.20535714285714285\n",
      "f1 score of the model:  0.5993265993265993\n"
     ]
    },
    {
     "data": {
      "image/png": "[encoded data removed]",
      "text/plain": [
       "<Figure size 432x288 with 1 Axes>"
      ]
     },
     "metadata": {
      "needs_background": "light"
     },
     "output_type": "display_data"
    },
    {
     "name": "stdout",
     "output_type": "stream",
     "text": [
      "AUC value of the model: 0.50\n"
     ]
    },
    {
     "data": {
      "image/png": "[encoded data removed]",
      "text/plain": [
       "<Figure size 432x288 with 1 Axes>"
      ]
     },
     "metadata": {
      "needs_background": "light"
     },
     "output_type": "display_data"
    }
   ],
   "source": [
    "target_predict = xgb_model.predict(X_train)\n",
    "targetclass_prob = xgb_model.predict_proba(X_train)[:,1]\n",
    "target_predict = target_predict.astype('int64')\n",
    "targetclass_prob = targetclass_prob.astype('int64')\n",
    "#confusion_matrix = pd.crosstab(X_train,target_predict)\n",
    "error_metric(confusion_matrix)\n",
    "ROC_curve(Y_train,targetclass_prob)\n",
    "Precision_recall_curve(Y_train,targetclass_prob)"
   ]
  },
  {
   "cell_type": "markdown",
   "metadata": {},
   "source": [
    "Model Selection \n",
    "Now,here we have selected fianl  model"
   ]
  },
  {
   "cell_type": "code",
   "execution_count": 43,
   "metadata": {},
   "outputs": [],
   "source": [
    "Result = pd.DataFrame({'Actual_target': Y_train, 'Predicted_target':target_predict})"
   ]
  },
  {
   "cell_type": "code",
   "execution_count": 44,
   "metadata": {},
   "outputs": [],
   "source": [
    "Result.to_csv(\"PREDICTION_PYTHON.csv\",index=False)"
   ]
  },
  {
   "cell_type": "code",
   "execution_count": null,
   "metadata": {},
   "outputs": [],
   "source": []
  },
  {
   "cell_type": "code",
   "execution_count": null,
   "metadata": {},
   "outputs": [],
   "source": []
  }
 ],
 "metadata": {
  "kernelspec": {
   "display_name": "Python 3",
   "language": "python",
   "name": "python3"
  },
  "language_info": {
   "codemirror_mode": {
    "name": "ipython",
    "version": 3
   },
   "file_extension": ".py",
   "mimetype": "text/x-python",
   "name": "python",
   "nbconvert_exporter": "python",
   "pygments_lexer": "ipython3",
   "version": "3.7.6"
  }
 },
 "nbformat": 4,
 "nbformat_minor": 4
}
